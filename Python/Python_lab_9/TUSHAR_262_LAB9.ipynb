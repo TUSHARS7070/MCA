{
 "cells": [
  {
   "cell_type": "markdown",
   "metadata": {},
   "source": [
    "1. Write a program to distinguish between Array Indexing and Fancy Indexing."
   ]
  },
  {
   "cell_type": "code",
   "execution_count": 11,
   "metadata": {},
   "outputs": [
    {
     "name": "stdout",
     "output_type": "stream",
     "text": [
      "\n",
      "Created NumPy Array:\n",
      "[[16 15 14 13]\n",
      " [12 11 10  9]\n",
      " [ 8  7  6  5]\n",
      " [ 4  3  2  1]]\n",
      "Array Indexing: 11\n",
      "Fancy Indexing: [16  7]\n"
     ]
    }
   ],
   "source": [
    "import numpy as np\n",
    "\n",
    "# Take user input to create a NumPy array\n",
    "rows = int(input(\"Enter the number of rows: \"))\n",
    "cols = int(input(\"Enter the number of columns: \"))\n",
    "\n",
    "# Initialize an empty array\n",
    "arr = np.empty((rows, cols), dtype=int)\n",
    "\n",
    "# Fill the array with user input values\n",
    "for i in range(rows):\n",
    "    for j in range(cols):\n",
    "        arr[i, j] = int(input(f\"Enter the value for arr[{i}, {j}]: \"))\n",
    "\n",
    "# Display the created array\n",
    "print(\"\\nCreated NumPy Array:\")\n",
    "print(arr)\n",
    "#Array Indexing\n",
    "element1 = arr[1, 1]\n",
    "#Fancy Indexing\n",
    "fancy_row= np.array([0,2])\n",
    "fancy_col= np.array([0,1])\n",
    "element2= arr[fancy_row,fancy_col]\n",
    "print(\"Array Indexing:\",element1)\n",
    "print(\"Fancy Indexing:\",element2 )"
   ]
  },
  {
   "cell_type": "markdown",
   "metadata": {},
   "source": [
    "Q2. Execute the 2D array Slicing."
   ]
  },
  {
   "cell_type": "code",
   "execution_count": 12,
   "metadata": {},
   "outputs": [
    {
     "name": "stdout",
     "output_type": "stream",
     "text": [
      "\n",
      "User-created matrix:\n",
      "[[9 8 7]\n",
      " [6 5 4]\n",
      " [3 2 1]]\n",
      "\n",
      "Slicing Operations:\n",
      "\n",
      "Sliced submatrix:\n",
      "[[6 5 4]\n",
      " [3 2 1]]\n"
     ]
    }
   ],
   "source": [
    "import numpy as np\n",
    "\n",
    "# Take user input for the dimensions of the matrix\n",
    "rows = int(input(\"Enter the number of rows: \"))\n",
    "cols = int(input(\"Enter the number of columns: \"))\n",
    "\n",
    "# Initialize an empty matrix\n",
    "matrix = np.empty((rows, cols), dtype=int)\n",
    "\n",
    "# Fill the matrix with user input values\n",
    "for i in range(rows):\n",
    "    for j in range(cols):\n",
    "        matrix[i, j] = int(input(f\"Enter the value for matrix[{i}, {j}]: \"))\n",
    "\n",
    "# Display the user-created matrix\n",
    "print(\"\\nUser-created matrix:\")\n",
    "print(matrix)\n",
    "\n",
    "# Slicing operations\n",
    "print(\"\\nSlicing Operations:\")\n",
    "\n",
    "# Slice a submatrix from the user input matrix\n",
    "start_row = int(input(\"Enter the start row index: \"))\n",
    "end_row = int(input(\"Enter the end row index: \")) + 1  # Add 1 to include the end row\n",
    "start_col = int(input(\"Enter the start column index: \"))\n",
    "end_col = int(input(\"Enter the end column index: \")) + 1  # Add 1 to include the end column\n",
    "\n",
    "submatrix = matrix[start_row:end_row, start_col:end_col]\n",
    "\n",
    "print(\"\\nSliced submatrix:\")\n",
    "print(submatrix)\n"
   ]
  },
  {
   "cell_type": "markdown",
   "metadata": {},
   "source": [
    "Q3. Create the 5-Dimensional arrays using ‘ndmin’."
   ]
  },
  {
   "cell_type": "code",
   "execution_count": 18,
   "metadata": {},
   "outputs": [
    {
     "name": "stdout",
     "output_type": "stream",
     "text": [
      "[[[[[1 2 3 4 5]]]]]\n",
      "5\n"
     ]
    }
   ],
   "source": [
    "import numpy as np\n",
    "\n",
    "# Create a 5-dimensional array with the values 1, 2, 3, 4, and 5\n",
    "array = np.array([1, 2, 3, 4, 5], ndmin=5)\n",
    "\n",
    "# Print the array\n",
    "print(array)\n",
    "\n",
    "# Print the number of dimensions of the array\n",
    "print(array.ndim)\n"
   ]
  },
  {
   "cell_type": "markdown",
   "metadata": {},
   "source": [
    "Q4. Reshape the array from 1-D to 2-D array."
   ]
  },
  {
   "cell_type": "code",
   "execution_count": 20,
   "metadata": {},
   "outputs": [
    {
     "name": "stdout",
     "output_type": "stream",
     "text": [
      "\n",
      "Original 1-D array:\n",
      "[1 4 7 8 5 2 0 3 6]\n",
      "\n",
      "Reshaped 2-D array:\n",
      "[[1 4 7]\n",
      " [8 5 2]\n",
      " [0 3 6]]\n"
     ]
    }
   ],
   "source": [
    "import numpy as np\n",
    "\n",
    "# Take user input to create a 1-D array\n",
    "input_string = input(\"Enter elements separated by spaces: \")\n",
    "input_list = input_string.split()\n",
    "array_1d = np.array(input_list, dtype=int)\n",
    "\n",
    "# Determine the shape of the 2-D array\n",
    "rows = int(input(\"Enter the number of rows for the 2-D array: \"))\n",
    "cols = int(input(\"Enter the number of columns for the 2-D array: \"))\n",
    "\n",
    "# Check if the number of elements in the 1-D array matches the desired shape\n",
    "if rows * cols != array_1d.size:\n",
    "    print(\"Error: The product of rows and columns must equal the number of elements in the 1-D array.\")\n",
    "else:\n",
    "    # Reshape the 1-D array into a 2-D array\n",
    "    array_2d = array_1d.reshape(rows, cols)\n",
    "\n",
    "    # Print the original 1-D array and the reshaped 2-D array\n",
    "    print(\"\\nOriginal 1-D array:\")\n",
    "    print(array_1d)\n",
    "\n",
    "    print(\"\\nReshaped 2-D array:\")\n",
    "    print(array_2d)\n"
   ]
  },
  {
   "cell_type": "markdown",
   "metadata": {},
   "source": [
    "Q5. Perform the Stack functions in Numpy arrays – Stack(), hstack(), vstack(), and dstack()."
   ]
  },
  {
   "cell_type": "code",
   "execution_count": 23,
   "metadata": {},
   "outputs": [
    {
     "name": "stdout",
     "output_type": "stream",
     "text": [
      "Enter elements for the first array:\n",
      "Enter elements for the second array:\n",
      "Enter elements for the third array:\n",
      "\n",
      "stacked_arrays:\n",
      "[[1 2 3 4 5 6 7 8 9]\n",
      " [9 8 7 6 5 4 3 2 1]\n",
      " [1 5 9 8 4 7 6 2 3]]\n",
      "\n",
      "hstacked_arrays:\n",
      "[1 2 3 4 5 6 7 8 9 9 8 7 6 5 4 3 2 1 1 5 9 8 4 7 6 2 3]\n",
      "\n",
      "vstacked_arrays:\n",
      "[[1 2 3 4 5 6 7 8 9]\n",
      " [9 8 7 6 5 4 3 2 1]\n",
      " [1 5 9 8 4 7 6 2 3]]\n",
      "\n",
      "dstacked_arrays:\n",
      "[[[10 19]\n",
      "  [11 20]\n",
      "  [12 21]]\n",
      "\n",
      " [[13 22]\n",
      "  [14 23]\n",
      "  [15 24]]\n",
      "\n",
      " [[16 25]\n",
      "  [17 26]\n",
      "  [18 27]]]\n"
     ]
    }
   ],
   "source": [
    "import numpy as np\n",
    "\n",
    "# Function to take user input for an array\n",
    "def input_array():\n",
    "    input_string = input(\"Enter elements separated by spaces: \")\n",
    "    input_list = input_string.split()\n",
    "    return np.array(input_list, dtype=int)\n",
    "\n",
    "# Take user input to create three arrays\n",
    "print(\"Enter elements for the first array:\")\n",
    "array1 = input_array()\n",
    "\n",
    "print(\"Enter elements for the second array:\")\n",
    "array2 = input_array()\n",
    "\n",
    "print(\"Enter elements for the third array:\")\n",
    "array3 = input_array()\n",
    "\n",
    "# stack(): Stacks arrays along a new axis\n",
    "stacked_arrays = np.stack((array1, array2, array3))\n",
    "print(\"\\nstacked_arrays:\")\n",
    "print(stacked_arrays)\n",
    "\n",
    "# hstack(): Stacks arrays horizontally (along columns)\n",
    "hstacked_arrays = np.hstack((array1, array2, array3))\n",
    "print(\"\\nhstacked_arrays:\")\n",
    "print(hstacked_arrays)\n",
    "\n",
    "# vstack(): Stacks arrays vertically (along rows)\n",
    "vstacked_arrays = np.vstack((array1, array2, array3))\n",
    "print(\"\\nvstacked_arrays:\")\n",
    "print(vstacked_arrays)\n",
    "\n",
    "# dstack(): Stacks arrays along the third dimension (depth)\n",
    "# Create 2-D arrays for dstack()\n",
    "array4 = np.array([[10, 11, 12],\n",
    "                   [13, 14, 15],\n",
    "                   [16, 17, 18]])\n",
    "\n",
    "array5 = np.array([[19, 20, 21],\n",
    "                   [22, 23, 24],\n",
    "                   [25, 26, 27]])\n",
    "\n",
    "dstacked_arrays = np.dstack((array4, array5))\n",
    "print(\"\\ndstacked_arrays:\")\n",
    "print(dstacked_arrays)\n"
   ]
  },
  {
   "cell_type": "markdown",
   "metadata": {},
   "source": [
    "Q6. Perform the searchsort method in Numpy array."
   ]
  },
  {
   "cell_type": "code",
   "execution_count": 29,
   "metadata": {},
   "outputs": [
    {
     "name": "stdout",
     "output_type": "stream",
     "text": [
      "Enter sorted elements for the array:\n",
      "\n",
      "Sorted Array:\n",
      "[1 4 5 5 7 8 9]\n",
      "The value 16 should be inserted at index 7 to maintain the sorted order.\n"
     ]
    }
   ],
   "source": [
    "import numpy as np\n",
    "\n",
    "# Function to take user input for a sorted array\n",
    "def input_sorted_array():\n",
    "    input_string = input(\"Enter sorted elements separated by spaces: \")\n",
    "    input_list = input_string.split()\n",
    "    return np.array(input_list, dtype=int)\n",
    "\n",
    "# Take user input to create a sorted array\n",
    "print(\"Enter sorted elements for the array:\")\n",
    "sorted_array = input_sorted_array()\n",
    "\n",
    "# Sort the array (in ascending order)\n",
    "sorted_array.sort()\n",
    "\n",
    "# Print the sorted array\n",
    "print(\"\\nSorted Array:\")\n",
    "print(sorted_array)\n",
    "\n",
    "# Value to search for\n",
    "value_to_find = int(input(\"Enter the value to find in the sorted array: \"))\n",
    "\n",
    "# Use searchsorted to find the index where the value should be inserted\n",
    "index_to_insert = np.searchsorted(sorted_array, value_to_find)\n",
    "\n",
    "# Print the result\n",
    "print(f\"The value {value_to_find} should be inserted at index {index_to_insert} to maintain the sorted order.\")\n"
   ]
  },
  {
   "cell_type": "markdown",
   "metadata": {},
   "source": [
    "Q7. Create Numpy Structured array using your domain features."
   ]
  },
  {
   "cell_type": "code",
   "execution_count": 35,
   "metadata": {},
   "outputs": [
    {
     "name": "stdout",
     "output_type": "stream",
     "text": [
      "Structured Array - Product Information:\n",
      "[(101, 'Scribble Pad A', 5.99, 100) (102, 'Scribble Pad B', 4.49,  50)\n",
      " (103, 'Scribble Pad C', 6.99,  75) (104, 'Scribble Pad D', 7.49,  60)\n",
      " (105, 'Scribble Pad E', 3.99, 200)]\n"
     ]
    }
   ],
   "source": [
    "import numpy as np\n",
    "\n",
    "# Define the data type for the structured array\n",
    "product_dtype = np.dtype([\n",
    "    ('ProductID', 'int32'),         # Product ID as an integer\n",
    "    ('ProductName', 'U50'),         # Product name as a Unicode string (up to 50 characters)\n",
    "    ('Price', 'float64'),           # Price as a floating-point number\n",
    "    ('Quantity', 'int32')           # Quantity as an integer\n",
    "])\n",
    "\n",
    "# Create a structured array with product information\n",
    "products = np.array([\n",
    "    (101, 'Scribble Pad A', 5.99, 100),\n",
    "    (102, 'Scribble Pad B', 4.49, 50),\n",
    "    (103, 'Scribble Pad C', 6.99, 75),\n",
    "    (104, 'Scribble Pad D', 7.49, 60),\n",
    "    (105, 'Scribble Pad E', 3.99, 200)\n",
    "], dtype=product_dtype)\n",
    "\n",
    "# Print the structured array\n",
    "print(\"Structured Array - Product Information:\")\n",
    "print(products)\n"
   ]
  },
  {
   "cell_type": "markdown",
   "metadata": {},
   "source": [
    "Q8. Create Data frame using List and Dictionary."
   ]
  },
  {
   "cell_type": "code",
   "execution_count": 30,
   "metadata": {},
   "outputs": [
    {
     "name": "stdout",
     "output_type": "stream",
     "text": [
      "     NAME  AGE\n",
      "0  Tushar   22\n",
      "1   Rohit   21\n"
     ]
    }
   ],
   "source": [
    "import pandas as pd\n",
    "\n",
    "# Create a list of dictionaries\n",
    "data = [{'NAME': 'Tushar', 'AGE': 22}, {'NAME': 'Rohit', 'AGE': 21}]\n",
    "\n",
    "# Create a DataFrame from the list of dictionaries\n",
    "df = pd.DataFrame.from_dict(data)\n",
    "\n",
    "# Print the DataFrame\n",
    "print(df)\n"
   ]
  },
  {
   "cell_type": "markdown",
   "metadata": {},
   "source": [
    "Q9. Create Data frame on your Domain area and perform the following operations to find and eliminate the\n",
    "missing data from the dataset.\n",
    "• isnull()\n",
    "• notnull()\n",
    "• dropna()\n",
    "• fillna()\n",
    "• replace()\n",
    "• interpolate()"
   ]
  },
  {
   "cell_type": "code",
   "execution_count": 33,
   "metadata": {},
   "outputs": [
    {
     "name": "stdout",
     "output_type": "stream",
     "text": [
      "Original DataFrame - Scribble Pad Inventory:\n",
      "   ProductID     ProductName  Price  Quantity\n",
      "0        101  Scribble Pad A   5.99     100.0\n",
      "1        102  Scribble Pad B   4.49      50.0\n",
      "2        103  Scribble Pad C    NaN      75.0\n",
      "3        104             NaN   6.99       NaN\n",
      "4        105  Scribble Pad E   3.99     200.0\n",
      "\n",
      "Missing Data (isnull()):\n",
      "   ProductID  ProductName  Price  Quantity\n",
      "0      False        False  False     False\n",
      "1      False        False  False     False\n",
      "2      False        False   True     False\n",
      "3      False         True  False      True\n",
      "4      False        False  False     False\n",
      "\n",
      "Non-Missing Data (notnull()):\n",
      "   ProductID  ProductName  Price  Quantity\n",
      "0       True         True   True      True\n",
      "1       True         True   True      True\n",
      "2       True         True  False      True\n",
      "3       True        False   True     False\n",
      "4       True         True   True      True\n",
      "\n",
      "DataFrame after dropping rows with missing data (dropna()):\n",
      "   ProductID     ProductName  Price  Quantity\n",
      "0        101  Scribble Pad A   5.99     100.0\n",
      "1        102  Scribble Pad B   4.49      50.0\n",
      "4        105  Scribble Pad E   3.99     200.0\n",
      "\n",
      "DataFrame after filling missing values (fillna()):\n",
      "   ProductID     ProductName  Price  Quantity\n",
      "0        101  Scribble Pad A  5.990     100.0\n",
      "1        102  Scribble Pad B  4.490      50.0\n",
      "2        103  Scribble Pad C  5.365      75.0\n",
      "3        104             NaN  6.990       0.0\n",
      "4        105  Scribble Pad E  3.990     200.0\n",
      "\n",
      "DataFrame after replacing missing values (replace()):\n",
      "   ProductID     ProductName    Price Quantity\n",
      "0        101  Scribble Pad A     5.99    100.0\n",
      "1        102  Scribble Pad B     4.49     50.0\n",
      "2        103  Scribble Pad C  Unknown     75.0\n",
      "3        104         Unknown     6.99  Unknown\n",
      "4        105  Scribble Pad E     3.99    200.0\n",
      "\n",
      "DataFrame after interpolating missing values (interpolate()):\n",
      "   ProductID     ProductName  Price  Quantity\n",
      "0        101  Scribble Pad A   5.99     100.0\n",
      "1        102  Scribble Pad B   4.49      50.0\n",
      "2        103  Scribble Pad C   5.74      75.0\n",
      "3        104             NaN   6.99     137.5\n",
      "4        105  Scribble Pad E   3.99     200.0\n"
     ]
    },
    {
     "name": "stderr",
     "output_type": "stream",
     "text": [
      "C:\\Users\\tushar sakuja\\AppData\\Local\\Temp\\ipykernel_2524\\3986800269.py:44: FutureWarning: DataFrame.interpolate with object dtype is deprecated and will raise in a future version. Call obj.infer_objects(copy=False) before interpolating instead.\n",
      "  df_interpolated = df.interpolate()\n"
     ]
    }
   ],
   "source": [
    "import pandas as pd\n",
    "import numpy as np\n",
    "\n",
    "# Create a sample DataFrame with missing data in a scribble pad inventory\n",
    "data = {\n",
    "    'ProductID': [101, 102, 103, 104, 105],\n",
    "    'ProductName': ['Scribble Pad A', 'Scribble Pad B', 'Scribble Pad C', np.nan, 'Scribble Pad E'],\n",
    "    'Price': [5.99, 4.49, np.nan, 6.99, 3.99],\n",
    "    'Quantity': [100, 50, 75, np.nan, 200]\n",
    "}\n",
    "\n",
    "df = pd.DataFrame(data)\n",
    "\n",
    "# Display the original DataFrame\n",
    "print(\"Original DataFrame - Scribble Pad Inventory:\")\n",
    "print(df)\n",
    "\n",
    "# 1. isnull() - Detect missing values\n",
    "missing_data = df.isnull()\n",
    "print(\"\\nMissing Data (isnull()):\")\n",
    "print(missing_data)\n",
    "\n",
    "# 2. notnull() - Detect non-missing values\n",
    "non_missing_data = df.notnull()\n",
    "print(\"\\nNon-Missing Data (notnull()):\")\n",
    "print(non_missing_data)\n",
    "\n",
    "# 3. dropna() - Remove rows with missing data\n",
    "df_dropped = df.dropna()\n",
    "print(\"\\nDataFrame after dropping rows with missing data (dropna()):\")\n",
    "print(df_dropped)\n",
    "\n",
    "# 4. fillna() - Fill missing values with a specific value or strategy\n",
    "df_filled = df.fillna({'Price': df['Price'].mean(), 'Quantity': 0})\n",
    "print(\"\\nDataFrame after filling missing values (fillna()):\")\n",
    "print(df_filled)\n",
    "\n",
    "# 5. replace() - Replace specific values with another value\n",
    "df_replaced = df.replace(np.nan, 'Unknown', regex=True)\n",
    "print(\"\\nDataFrame after replacing missing values (replace()):\")\n",
    "print(df_replaced)\n",
    "\n",
    "# 6. interpolate() - Interpolate missing values using various methods\n",
    "df_interpolated = df.interpolate()\n",
    "print(\"\\nDataFrame after interpolating missing values (interpolate()):\")\n",
    "print(df_interpolated)\n"
   ]
  },
  {
   "cell_type": "markdown",
   "metadata": {},
   "source": [
    "Q10. Perform the Hierarchical Indexing in the above created dataset."
   ]
  },
  {
   "cell_type": "code",
   "execution_count": 34,
   "metadata": {},
   "outputs": [
    {
     "name": "stdout",
     "output_type": "stream",
     "text": [
      "DataFrame with Hierarchical Indexing:\n",
      "                          Price  Quantity\n",
      "ProductID ProductName                    \n",
      "101       Scribble Pad A   5.99       100\n",
      "102       Scribble Pad B   4.49        50\n",
      "103       Scribble Pad C   6.99        75\n",
      "104       Scribble Pad D   7.49        60\n",
      "105       Scribble Pad E   3.99       200\n"
     ]
    }
   ],
   "source": [
    "import pandas as pd\n",
    "\n",
    "# Create a sample DataFrame\n",
    "data = {\n",
    "    'ProductID': [101, 102, 103, 104, 105],\n",
    "    'ProductName': ['Scribble Pad A', 'Scribble Pad B', 'Scribble Pad C', 'Scribble Pad D', 'Scribble Pad E'],\n",
    "    'Price': [5.99, 4.49, 6.99, 7.49, 3.99],\n",
    "    'Quantity': [100, 50, 75, 60, 200]\n",
    "}\n",
    "\n",
    "df = pd.DataFrame(data)\n",
    "\n",
    "# Create hierarchical indexing\n",
    "df.set_index(['ProductID', 'ProductName'], inplace=True)\n",
    "\n",
    "# Display the DataFrame with hierarchical indexing\n",
    "print(\"DataFrame with Hierarchical Indexing:\")\n",
    "print(df)\n"
   ]
  }
 ],
 "metadata": {
  "kernelspec": {
   "display_name": "Python 3",
   "language": "python",
   "name": "python3"
  },
  "language_info": {
   "codemirror_mode": {
    "name": "ipython",
    "version": 3
   },
   "file_extension": ".py",
   "mimetype": "text/x-python",
   "name": "python",
   "nbconvert_exporter": "python",
   "pygments_lexer": "ipython3",
   "version": "3.11.5"
  },
  "orig_nbformat": 4
 },
 "nbformat": 4,
 "nbformat_minor": 2
}
